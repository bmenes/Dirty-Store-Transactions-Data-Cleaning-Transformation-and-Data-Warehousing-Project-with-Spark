{
 "cells": [
  {
   "cell_type": "code",
   "execution_count": 3,
   "id": "0e306bdc-0382-4dc8-84b1-527b4f87662e",
   "metadata": {},
   "outputs": [],
   "source": [
    "import findspark\n",
    "findspark.init(\"/opt/spark/\")\n",
    "from pyspark.sql import SparkSession, functions as F\n",
    "from pyspark.sql.types import *\n",
    "from pyspark.sql.functions import regexp_replace\n",
    "import configparser"
   ]
  },
  {
   "cell_type": "code",
   "execution_count": 4,
   "id": "9ec222e0-dd5b-431c-820d-8f5dcd086a5f",
   "metadata": {},
   "outputs": [
    {
     "name": "stdout",
     "output_type": "stream",
     "text": [
      ":: loading settings :: url = jar:file:/opt/spark/jars/ivy-2.5.1.jar!/org/apache/ivy/core/settings/ivysettings.xml\n"
     ]
    },
    {
     "name": "stderr",
     "output_type": "stream",
     "text": [
      "Ivy Default Cache set to: /home/train/.ivy2/cache\n",
      "The jars for the packages stored in: /home/train/.ivy2/jars\n",
      "org.postgresql#postgresql added as a dependency\n",
      ":: resolving dependencies :: org.apache.spark#spark-submit-parent-a2418283-23f1-458c-870a-6b164016c7c2;1.0\n",
      "\tconfs: [default]\n",
      "\tfound org.postgresql#postgresql;42.7.2 in central\n",
      "\tfound org.checkerframework#checker-qual;3.42.0 in central\n",
      ":: resolution report :: resolve 197ms :: artifacts dl 10ms\n",
      "\t:: modules in use:\n",
      "\torg.checkerframework#checker-qual;3.42.0 from central in [default]\n",
      "\torg.postgresql#postgresql;42.7.2 from central in [default]\n",
      "\t---------------------------------------------------------------------\n",
      "\t|                  |            modules            ||   artifacts   |\n",
      "\t|       conf       | number| search|dwnlded|evicted|| number|dwnlded|\n",
      "\t---------------------------------------------------------------------\n",
      "\t|      default     |   2   |   0   |   0   |   0   ||   2   |   0   |\n",
      "\t---------------------------------------------------------------------\n",
      ":: retrieving :: org.apache.spark#spark-submit-parent-a2418283-23f1-458c-870a-6b164016c7c2\n",
      "\tconfs: [default]\n",
      "\t0 artifacts copied, 2 already retrieved (0kB/9ms)\n",
      "24/04/25 18:14:36 WARN NativeCodeLoader: Unable to load native-hadoop library for your platform... using builtin-java classes where applicable\n",
      "Setting default log level to \"WARN\".\n",
      "To adjust logging level use sc.setLogLevel(newLevel). For SparkR, use setLogLevel(newLevel).\n",
      "24/04/25 18:14:38 WARN Utils: Service 'SparkUI' could not bind on port 4040. Attempting port 4041.\n"
     ]
    }
   ],
   "source": [
    "spark = SparkSession.builder \\\n",
    ".appName(\"Odev_1\") \\\n",
    ".config(\"spark.jars.packages\", \"org.postgresql:postgresql:42.7.2\") \\\n",
    ".master(\"local[2]\") \\\n",
    ".getOrCreate()"
   ]
  },
  {
   "cell_type": "code",
   "execution_count": 5,
   "id": "aaf75e3b-2910-4a4c-9a6f-5b6f54fe1128",
   "metadata": {},
   "outputs": [
    {
     "name": "stdout",
     "output_type": "stream",
     "text": [
      "openjdk 11.0.22 2024-01-16 LTS\n",
      "OpenJDK Runtime Environment (Red_Hat-11.0.22.0.7-1.el7_9) (build 11.0.22+7-LTS)\n",
      "OpenJDK 64-Bit Server VM (Red_Hat-11.0.22.0.7-1.el7_9) (build 11.0.22+7-LTS, mixed mode, sharing)\n"
     ]
    }
   ],
   "source": [
    "! java --version\n"
   ]
  },
  {
   "cell_type": "code",
   "execution_count": 6,
   "id": "657859ff-8eca-4eb6-9679-c68812a3b2bf",
   "metadata": {},
   "outputs": [],
   "source": [
    "#csv download"
   ]
  },
  {
   "cell_type": "code",
   "execution_count": 7,
   "id": "497e9a5e-9cf5-4a7b-ad31-bfff90bb3e1c",
   "metadata": {},
   "outputs": [
    {
     "name": "stdout",
     "output_type": "stream",
     "text": [
      "--2024-04-25 18:14:40--  https://github.com/erkansirin78/datasets/raw/master/dirty_store_transactions.csv\n",
      "Resolving github.com (github.com)... 140.82.121.4\n",
      "Connecting to github.com (github.com)|140.82.121.4|:443... connected.\n",
      "HTTP request sent, awaiting response... 302 Found\n",
      "Location: https://raw.githubusercontent.com/erkansirin78/datasets/master/dirty_store_transactions.csv [following]\n",
      "--2024-04-25 18:14:40--  https://raw.githubusercontent.com/erkansirin78/datasets/master/dirty_store_transactions.csv\n",
      "Resolving raw.githubusercontent.com (raw.githubusercontent.com)... 185.199.110.133, 185.199.108.133, 185.199.109.133, ...\n",
      "Connecting to raw.githubusercontent.com (raw.githubusercontent.com)|185.199.110.133|:443... connected.\n",
      "HTTP request sent, awaiting response... 200 OK\n",
      "Length: 2609524 (2.5M) [text/plain]\n",
      "Saving to: ‘/opt/examples/datasets/dirty_store_transactions.csv’\n",
      "\n",
      "100%[======================================>] 2,609,524   5.31MB/s   in 0.5s   \n",
      "\n",
      "2024-04-25 18:14:41 (5.31 MB/s) - ‘/opt/examples/datasets/dirty_store_transactions.csv’ saved [2609524/2609524]\n",
      "\n"
     ]
    }
   ],
   "source": [
    "! wget -O /opt/examples/datasets/dirty_store_transactions.csv \\\n",
    "https://github.com/erkansirin78/datasets/raw/master/dirty_store_transactions.csv"
   ]
  },
  {
   "cell_type": "code",
   "execution_count": null,
   "id": "a3c3c976-7281-41f7-80cd-41161084f791",
   "metadata": {},
   "outputs": [],
   "source": []
  },
  {
   "cell_type": "code",
   "execution_count": 34,
   "id": "e45b602d-2157-4987-9bbf-095dfdb0aa73",
   "metadata": {},
   "outputs": [],
   "source": [
    "#dataset read\n",
    "\n",
    "df = spark.read.option(\"header\",True) \\\n",
    ".option(\"inferSchema\",True) \\\n",
    ".option(\"sep\",\",\") \\\n",
    ".csv(\"file:///opt/examples/datasets/dirty_store_transactions.csv\")\n"
   ]
  },
  {
   "cell_type": "code",
   "execution_count": 9,
   "id": "67a45f11-fc20-47ec-b3c3-16bf5ddb3f22",
   "metadata": {},
   "outputs": [
    {
     "name": "stdout",
     "output_type": "stream",
     "text": [
      "+--------+--------------+----------------+----------+---+------+--------+------+----------+\n",
      "|STORE_ID|STORE_LOCATION|PRODUCT_CATEGORY|PRODUCT_ID|MRP|    CP|DISCOUNT|    SP|      Date|\n",
      "+--------+--------------+----------------+----------+---+------+--------+------+----------+\n",
      "|  YR7220|     New York(|     Electronics|  12254943|$31|$20.77|   $1.86|$29.14|2019-11-26|\n",
      "|  YR7220|     New York+|       Furniture| 72619323C|$15| $9.75|    $1.5| $13.5|2019-11-26|\n",
      "|  YR7220|     New York |     Electronics| 34161682B|$88|$62.48|    $4.4| $83.6|2019-11-26|\n",
      "|  YR7220|     New York!|         Kitchen|  79411621|$91|$58.24|   $3.64|$87.36|2019-11-26|\n",
      "|  YR7220|      New York|         Fashion| 39520263T|$85|   $51|   $2.55|$82.45|2019-11-26|\n",
      "|  YR7220|      New York|         Kitchen|  93809204|$37|$24.05|   $0.74|$36.26|2019-11-26|\n",
      "|  YR7220|      New York|       Cosmetics| 86610412D|$80| $48.8|    $6.4| $73.6|2019-11-26|\n",
      "|  YR7220|     New York$|         Kitchen| 52503356^|$71| $42.6|   $5.68|$65.32|2019-11-26|\n",
      "|  YR7220|      New York|         Kitchen|  77516479|$92|$56.12|   $3.68|$88.32|2019-11-26|\n",
      "|  YR7220|     New York!|       Cosmetics|  47334289|$16|$10.72|   $0.96|$15.04|2019-11-26|\n",
      "|  YR7220|    New York\"\"|       Cosmetics| 87566223^|$38|$23.18|   $2.66|$35.34|2019-11-26|\n",
      "|  YR7220|      New York|     Electronics| 54074401^|$26|$17.68|   $0.52|$25.48|2019-11-26|\n",
      "|  YR7220|      New York|         Fashion| 24246520G|$45|$30.15|   $1.35|$43.65|2019-11-26|\n",
      "|  YR7220|      New York|       Cosmetics|  61138610|$83|$57.27|   $1.66|$81.34|2019-11-26|\n",
      "|  YR7220|      New York|         Kitchen|  69018554|$55| $37.4|   $1.65|$53.35|2019-11-26|\n",
      "|  YR7220|      New York|       Groceries| 11950073P|$13| $7.93|   $0.39|$12.61|2019-11-26|\n",
      "|  YR7220|      New York|         Fashion|  86404418|$69| $48.3|   $4.83|$64.17|2019-11-26|\n",
      "|  YR7220|     New York+|         Fashion|  91763000|$18| $11.7|   $0.36|$17.64|2019-11-26|\n",
      "|  YR7220|      New York|       Groceries|  53648681|$52|$36.92|   $1.04|$50.96|2019-11-26|\n",
      "|  YR7220|      New York|       Groceries| 15652465T|$29|$18.85|   $2.03|$26.97|2019-11-26|\n",
      "+--------+--------------+----------------+----------+---+------+--------+------+----------+\n",
      "only showing top 20 rows\n",
      "\n"
     ]
    }
   ],
   "source": [
    "df.show()"
   ]
  },
  {
   "cell_type": "code",
   "execution_count": 10,
   "id": "feecfd31-06f4-41f4-8a8f-f08affed902f",
   "metadata": {},
   "outputs": [
    {
     "name": "stdout",
     "output_type": "stream",
     "text": [
      "root\n",
      " |-- STORE_ID: string (nullable = true)\n",
      " |-- STORE_LOCATION: string (nullable = true)\n",
      " |-- PRODUCT_CATEGORY: string (nullable = true)\n",
      " |-- PRODUCT_ID: string (nullable = true)\n",
      " |-- MRP: string (nullable = true)\n",
      " |-- CP: string (nullable = true)\n",
      " |-- DISCOUNT: string (nullable = true)\n",
      " |-- SP: string (nullable = true)\n",
      " |-- Date: date (nullable = true)\n",
      "\n"
     ]
    }
   ],
   "source": [
    "df.printSchema()"
   ]
  },
  {
   "cell_type": "code",
   "execution_count": 11,
   "id": "a5337fce-b7a4-423e-a61d-471dc8c423be",
   "metadata": {},
   "outputs": [
    {
     "data": {
      "text/plain": [
       "[('STORE_ID', 'string'),\n",
       " ('STORE_LOCATION', 'string'),\n",
       " ('PRODUCT_CATEGORY', 'string'),\n",
       " ('PRODUCT_ID', 'string'),\n",
       " ('MRP', 'string'),\n",
       " ('CP', 'string'),\n",
       " ('DISCOUNT', 'string'),\n",
       " ('SP', 'string'),\n",
       " ('Date', 'date')]"
      ]
     },
     "execution_count": 11,
     "metadata": {},
     "output_type": "execute_result"
    }
   ],
   "source": [
    "df.dtypes"
   ]
  },
  {
   "cell_type": "code",
   "execution_count": 38,
   "id": "8b0ea781-26b2-4a1b-a186-b2539970c54a",
   "metadata": {},
   "outputs": [
    {
     "data": {
      "text/plain": [
       "['STORE_ID',\n",
       " 'STORE_LOCATION',\n",
       " 'PRODUCT_CATEGORY',\n",
       " 'PRODUCT_ID',\n",
       " 'MRP',\n",
       " 'CP',\n",
       " 'DISCOUNT',\n",
       " 'SP']"
      ]
     },
     "execution_count": 38,
     "metadata": {},
     "output_type": "execute_result"
    }
   ],
   "source": [
    "#string trim\n",
    "\n",
    "str_col=[]\n",
    "\n",
    "for col in df.dtypes:\n",
    "    if col[1]==\"string\":\n",
    "        str_col.append(col[0])\n",
    "str_col\n"
   ]
  },
  {
   "cell_type": "code",
   "execution_count": 13,
   "id": "9f901d93-1a1f-4475-aa31-09e9518ff981",
   "metadata": {},
   "outputs": [],
   "source": [
    "df2=df"
   ]
  },
  {
   "cell_type": "code",
   "execution_count": 14,
   "id": "b66a5a75-7710-4d90-9f49-d88f4146b8a8",
   "metadata": {},
   "outputs": [],
   "source": [
    "for col in str_col:\n",
    "    df2=df2.withColumn(col,F.trim(col))\n",
    "\n"
   ]
  },
  {
   "cell_type": "code",
   "execution_count": 15,
   "id": "1e28089c-4bee-4a82-b066-3696acb1183a",
   "metadata": {},
   "outputs": [
    {
     "data": {
      "text/html": [
       "<div>\n",
       "<style scoped>\n",
       "    .dataframe tbody tr th:only-of-type {\n",
       "        vertical-align: middle;\n",
       "    }\n",
       "\n",
       "    .dataframe tbody tr th {\n",
       "        vertical-align: top;\n",
       "    }\n",
       "\n",
       "    .dataframe thead th {\n",
       "        text-align: right;\n",
       "    }\n",
       "</style>\n",
       "<table border=\"1\" class=\"dataframe\">\n",
       "  <thead>\n",
       "    <tr style=\"text-align: right;\">\n",
       "      <th></th>\n",
       "      <th>STORE_ID</th>\n",
       "      <th>STORE_LOCATION</th>\n",
       "      <th>PRODUCT_CATEGORY</th>\n",
       "      <th>PRODUCT_ID</th>\n",
       "      <th>MRP</th>\n",
       "      <th>CP</th>\n",
       "      <th>DISCOUNT</th>\n",
       "      <th>SP</th>\n",
       "      <th>Date</th>\n",
       "    </tr>\n",
       "  </thead>\n",
       "  <tbody>\n",
       "    <tr>\n",
       "      <th>0</th>\n",
       "      <td>YR7220</td>\n",
       "      <td>New York(</td>\n",
       "      <td>Electronics</td>\n",
       "      <td>12254943</td>\n",
       "      <td>$31</td>\n",
       "      <td>$20.77</td>\n",
       "      <td>$1.86</td>\n",
       "      <td>$29.14</td>\n",
       "      <td>2019-11-26</td>\n",
       "    </tr>\n",
       "    <tr>\n",
       "      <th>1</th>\n",
       "      <td>YR7220</td>\n",
       "      <td>New York</td>\n",
       "      <td>Electronics</td>\n",
       "      <td>34161682B</td>\n",
       "      <td>$88</td>\n",
       "      <td>$62.48</td>\n",
       "      <td>$4.4</td>\n",
       "      <td>$83.6</td>\n",
       "      <td>2019-11-26</td>\n",
       "    </tr>\n",
       "    <tr>\n",
       "      <th>2</th>\n",
       "      <td>YR7220</td>\n",
       "      <td>New York</td>\n",
       "      <td>Electronics</td>\n",
       "      <td>54074401^</td>\n",
       "      <td>$26</td>\n",
       "      <td>$17.68</td>\n",
       "      <td>$0.52</td>\n",
       "      <td>$25.48</td>\n",
       "      <td>2019-11-26</td>\n",
       "    </tr>\n",
       "    <tr>\n",
       "      <th>3</th>\n",
       "      <td>YR7220</td>\n",
       "      <td>New York</td>\n",
       "      <td>Electronics</td>\n",
       "      <td>40901794</td>\n",
       "      <td>$43</td>\n",
       "      <td>$31.39</td>\n",
       "      <td>$3.87</td>\n",
       "      <td>$39.13</td>\n",
       "      <td>2019-11-26</td>\n",
       "    </tr>\n",
       "    <tr>\n",
       "      <th>4</th>\n",
       "      <td>YR7220</td>\n",
       "      <td>New York%</td>\n",
       "      <td>Electronics</td>\n",
       "      <td>37012634H</td>\n",
       "      <td>$71</td>\n",
       "      <td>$46.15</td>\n",
       "      <td>$4.97</td>\n",
       "      <td>$66.03</td>\n",
       "      <td>2019-11-26</td>\n",
       "    </tr>\n",
       "  </tbody>\n",
       "</table>\n",
       "</div>"
      ],
      "text/plain": [
       "  STORE_ID STORE_LOCATION PRODUCT_CATEGORY PRODUCT_ID  MRP      CP DISCOUNT  \\\n",
       "0   YR7220      New York(      Electronics   12254943  $31  $20.77    $1.86   \n",
       "1   YR7220       New York      Electronics  34161682B  $88  $62.48     $4.4   \n",
       "2   YR7220       New York      Electronics  54074401^  $26  $17.68    $0.52   \n",
       "3   YR7220       New York      Electronics   40901794  $43  $31.39    $3.87   \n",
       "4   YR7220      New York%      Electronics  37012634H  $71  $46.15    $4.97   \n",
       "\n",
       "       SP        Date  \n",
       "0  $29.14  2019-11-26  \n",
       "1   $83.6  2019-11-26  \n",
       "2  $25.48  2019-11-26  \n",
       "3  $39.13  2019-11-26  \n",
       "4  $66.03  2019-11-26  "
      ]
     },
     "execution_count": 15,
     "metadata": {},
     "output_type": "execute_result"
    }
   ],
   "source": [
    "#trim deneme\n",
    "\n",
    "df2.filter(\"PRODUCT_CATEGORY=='Electronics'\").limit(5).toPandas()"
   ]
  },
  {
   "cell_type": "code",
   "execution_count": 16,
   "id": "0b41f15b-d767-4655-adb8-1359627193a5",
   "metadata": {},
   "outputs": [],
   "source": [
    "#store location temizleme\n",
    "\n",
    "df2=df.withColumn(\"STORE_LOCATION\",\n",
    "                  regexp_replace(\"STORE_LOCATION\",r'[^a-zA-Z\\s]',''))"
   ]
  },
  {
   "cell_type": "code",
   "execution_count": 17,
   "id": "295e094d-f73b-4a7f-8df0-e2d29544e236",
   "metadata": {},
   "outputs": [],
   "source": [
    "df2 = df2.withColumn(\"STORE_LOCATION\",F.trim(\"STORE_LOCATION\"))"
   ]
  },
  {
   "cell_type": "code",
   "execution_count": 18,
   "id": "ac81503a-ce0a-4dd4-9253-2ed1d0917362",
   "metadata": {},
   "outputs": [
    {
     "name": "stdout",
     "output_type": "stream",
     "text": [
      "+--------+--------------+----------------+----------+---+------+--------+------+----------+\n",
      "|STORE_ID|STORE_LOCATION|PRODUCT_CATEGORY|PRODUCT_ID|MRP|    CP|DISCOUNT|    SP|      Date|\n",
      "+--------+--------------+----------------+----------+---+------+--------+------+----------+\n",
      "|  YR7220|      New York|     Electronics|  12254943|$31|$20.77|   $1.86|$29.14|2019-11-26|\n",
      "|  YR7220|      New York|       Furniture| 72619323C|$15| $9.75|    $1.5| $13.5|2019-11-26|\n",
      "|  YR7220|      New York|     Electronics| 34161682B|$88|$62.48|    $4.4| $83.6|2019-11-26|\n",
      "|  YR7220|      New York|         Kitchen|  79411621|$91|$58.24|   $3.64|$87.36|2019-11-26|\n",
      "|  YR7220|      New York|         Fashion| 39520263T|$85|   $51|   $2.55|$82.45|2019-11-26|\n",
      "|  YR7220|      New York|         Kitchen|  93809204|$37|$24.05|   $0.74|$36.26|2019-11-26|\n",
      "|  YR7220|      New York|       Cosmetics| 86610412D|$80| $48.8|    $6.4| $73.6|2019-11-26|\n",
      "|  YR7220|      New York|         Kitchen| 52503356^|$71| $42.6|   $5.68|$65.32|2019-11-26|\n",
      "|  YR7220|      New York|         Kitchen|  77516479|$92|$56.12|   $3.68|$88.32|2019-11-26|\n",
      "|  YR7220|      New York|       Cosmetics|  47334289|$16|$10.72|   $0.96|$15.04|2019-11-26|\n",
      "|  YR7220|      New York|       Cosmetics| 87566223^|$38|$23.18|   $2.66|$35.34|2019-11-26|\n",
      "|  YR7220|      New York|     Electronics| 54074401^|$26|$17.68|   $0.52|$25.48|2019-11-26|\n",
      "|  YR7220|      New York|         Fashion| 24246520G|$45|$30.15|   $1.35|$43.65|2019-11-26|\n",
      "|  YR7220|      New York|       Cosmetics|  61138610|$83|$57.27|   $1.66|$81.34|2019-11-26|\n",
      "|  YR7220|      New York|         Kitchen|  69018554|$55| $37.4|   $1.65|$53.35|2019-11-26|\n",
      "|  YR7220|      New York|       Groceries| 11950073P|$13| $7.93|   $0.39|$12.61|2019-11-26|\n",
      "|  YR7220|      New York|         Fashion|  86404418|$69| $48.3|   $4.83|$64.17|2019-11-26|\n",
      "|  YR7220|      New York|         Fashion|  91763000|$18| $11.7|   $0.36|$17.64|2019-11-26|\n",
      "|  YR7220|      New York|       Groceries|  53648681|$52|$36.92|   $1.04|$50.96|2019-11-26|\n",
      "|  YR7220|      New York|       Groceries| 15652465T|$29|$18.85|   $2.03|$26.97|2019-11-26|\n",
      "+--------+--------------+----------------+----------+---+------+--------+------+----------+\n",
      "only showing top 20 rows\n",
      "\n"
     ]
    }
   ],
   "source": [
    "df2.show()"
   ]
  },
  {
   "cell_type": "code",
   "execution_count": 19,
   "id": "38833376-b1c1-4751-b38d-3770fa682f30",
   "metadata": {},
   "outputs": [
    {
     "data": {
      "text/plain": [
       "[('STORE_ID', 'string'),\n",
       " ('STORE_LOCATION', 'string'),\n",
       " ('PRODUCT_CATEGORY', 'string'),\n",
       " ('PRODUCT_ID', 'int'),\n",
       " ('MRP', 'string'),\n",
       " ('CP', 'string'),\n",
       " ('DISCOUNT', 'string'),\n",
       " ('SP', 'string'),\n",
       " ('Date', 'date')]"
      ]
     },
     "execution_count": 19,
     "metadata": {},
     "output_type": "execute_result"
    }
   ],
   "source": [
    "#PRODUCT_ID temizleme ve donusturme\n",
    "\n",
    "#replace\n",
    "df2=df2.withColumn(\"PRODUCT_ID\",regexp_replace(\"PRODUCT_ID\",r'[^0-9]',''))\n",
    "#trim\n",
    "df2=df2.withColumn(\"PRODUCT_ID\",F.trim(\"PRODUCT_ID\"))\n",
    "#convert int\n",
    "df2=df2.withColumn(\"PRODUCT_ID\",F.col(\"PRODUCT_ID\").cast(\"int\"))\n",
    "\n",
    "df2.dtypes\n"
   ]
  },
  {
   "cell_type": "code",
   "execution_count": 20,
   "id": "09ed5330-f3ca-4233-af20-e240d3c86a79",
   "metadata": {},
   "outputs": [
    {
     "name": "stdout",
     "output_type": "stream",
     "text": [
      "+--------+--------------+----------------+----------+---+------+--------+------+----------+\n",
      "|STORE_ID|STORE_LOCATION|PRODUCT_CATEGORY|PRODUCT_ID|MRP|    CP|DISCOUNT|    SP|      Date|\n",
      "+--------+--------------+----------------+----------+---+------+--------+------+----------+\n",
      "|  YR7220|      New York|     Electronics|  12254943|$31|$20.77|   $1.86|$29.14|2019-11-26|\n",
      "|  YR7220|      New York|       Furniture|  72619323|$15| $9.75|    $1.5| $13.5|2019-11-26|\n",
      "|  YR7220|      New York|     Electronics|  34161682|$88|$62.48|    $4.4| $83.6|2019-11-26|\n",
      "|  YR7220|      New York|         Kitchen|  79411621|$91|$58.24|   $3.64|$87.36|2019-11-26|\n",
      "|  YR7220|      New York|         Fashion|  39520263|$85|   $51|   $2.55|$82.45|2019-11-26|\n",
      "|  YR7220|      New York|         Kitchen|  93809204|$37|$24.05|   $0.74|$36.26|2019-11-26|\n",
      "|  YR7220|      New York|       Cosmetics|  86610412|$80| $48.8|    $6.4| $73.6|2019-11-26|\n",
      "|  YR7220|      New York|         Kitchen|  52503356|$71| $42.6|   $5.68|$65.32|2019-11-26|\n",
      "|  YR7220|      New York|         Kitchen|  77516479|$92|$56.12|   $3.68|$88.32|2019-11-26|\n",
      "|  YR7220|      New York|       Cosmetics|  47334289|$16|$10.72|   $0.96|$15.04|2019-11-26|\n",
      "|  YR7220|      New York|       Cosmetics|  87566223|$38|$23.18|   $2.66|$35.34|2019-11-26|\n",
      "|  YR7220|      New York|     Electronics|  54074401|$26|$17.68|   $0.52|$25.48|2019-11-26|\n",
      "|  YR7220|      New York|         Fashion|  24246520|$45|$30.15|   $1.35|$43.65|2019-11-26|\n",
      "|  YR7220|      New York|       Cosmetics|  61138610|$83|$57.27|   $1.66|$81.34|2019-11-26|\n",
      "|  YR7220|      New York|         Kitchen|  69018554|$55| $37.4|   $1.65|$53.35|2019-11-26|\n",
      "|  YR7220|      New York|       Groceries|  11950073|$13| $7.93|   $0.39|$12.61|2019-11-26|\n",
      "|  YR7220|      New York|         Fashion|  86404418|$69| $48.3|   $4.83|$64.17|2019-11-26|\n",
      "|  YR7220|      New York|         Fashion|  91763000|$18| $11.7|   $0.36|$17.64|2019-11-26|\n",
      "|  YR7220|      New York|       Groceries|  53648681|$52|$36.92|   $1.04|$50.96|2019-11-26|\n",
      "|  YR7220|      New York|       Groceries|  15652465|$29|$18.85|   $2.03|$26.97|2019-11-26|\n",
      "+--------+--------------+----------------+----------+---+------+--------+------+----------+\n",
      "only showing top 20 rows\n",
      "\n"
     ]
    }
   ],
   "source": [
    "df2.show()"
   ]
  },
  {
   "cell_type": "code",
   "execution_count": 21,
   "id": "bddb5167-f95f-4ff2-bc2d-d5fb6b527f39",
   "metadata": {},
   "outputs": [
    {
     "data": {
      "text/plain": [
       "[('STORE_ID', 'string'),\n",
       " ('STORE_LOCATION', 'string'),\n",
       " ('PRODUCT_CATEGORY', 'string'),\n",
       " ('PRODUCT_ID', 'int'),\n",
       " ('MRP', 'int'),\n",
       " ('CP', 'string'),\n",
       " ('DISCOUNT', 'string'),\n",
       " ('SP', 'string'),\n",
       " ('Date', 'date')]"
      ]
     },
     "execution_count": 21,
     "metadata": {},
     "output_type": "execute_result"
    }
   ],
   "source": [
    "#MRP temizleme ve donusturme\n",
    "\n",
    "#replace\n",
    "df2=df2.withColumn(\"MRP\",regexp_replace(\"MRP\",r'[^0-9]',''))\n",
    "#trim\n",
    "df2=df2.withColumn(\"MRP\",F.trim(\"MRP\"))\n",
    "#\n",
    "df2=df2.withColumn(\"MRP\",F.col(\"MRP\").cast(\"int\"))\n",
    "\n",
    "\n",
    "df2.dtypes\n"
   ]
  },
  {
   "cell_type": "code",
   "execution_count": 22,
   "id": "d1e44f8b-ee70-4547-968b-b3f5e04b12f7",
   "metadata": {},
   "outputs": [
    {
     "name": "stdout",
     "output_type": "stream",
     "text": [
      "+--------+--------------+----------------+----------+---+------+--------+------+----------+\n",
      "|STORE_ID|STORE_LOCATION|PRODUCT_CATEGORY|PRODUCT_ID|MRP|    CP|DISCOUNT|    SP|      Date|\n",
      "+--------+--------------+----------------+----------+---+------+--------+------+----------+\n",
      "|  YR7220|      New York|     Electronics|  12254943| 31|$20.77|   $1.86|$29.14|2019-11-26|\n",
      "|  YR7220|      New York|       Furniture|  72619323| 15| $9.75|    $1.5| $13.5|2019-11-26|\n",
      "|  YR7220|      New York|     Electronics|  34161682| 88|$62.48|    $4.4| $83.6|2019-11-26|\n",
      "|  YR7220|      New York|         Kitchen|  79411621| 91|$58.24|   $3.64|$87.36|2019-11-26|\n",
      "|  YR7220|      New York|         Fashion|  39520263| 85|   $51|   $2.55|$82.45|2019-11-26|\n",
      "|  YR7220|      New York|         Kitchen|  93809204| 37|$24.05|   $0.74|$36.26|2019-11-26|\n",
      "|  YR7220|      New York|       Cosmetics|  86610412| 80| $48.8|    $6.4| $73.6|2019-11-26|\n",
      "|  YR7220|      New York|         Kitchen|  52503356| 71| $42.6|   $5.68|$65.32|2019-11-26|\n",
      "|  YR7220|      New York|         Kitchen|  77516479| 92|$56.12|   $3.68|$88.32|2019-11-26|\n",
      "|  YR7220|      New York|       Cosmetics|  47334289| 16|$10.72|   $0.96|$15.04|2019-11-26|\n",
      "|  YR7220|      New York|       Cosmetics|  87566223| 38|$23.18|   $2.66|$35.34|2019-11-26|\n",
      "|  YR7220|      New York|     Electronics|  54074401| 26|$17.68|   $0.52|$25.48|2019-11-26|\n",
      "|  YR7220|      New York|         Fashion|  24246520| 45|$30.15|   $1.35|$43.65|2019-11-26|\n",
      "|  YR7220|      New York|       Cosmetics|  61138610| 83|$57.27|   $1.66|$81.34|2019-11-26|\n",
      "|  YR7220|      New York|         Kitchen|  69018554| 55| $37.4|   $1.65|$53.35|2019-11-26|\n",
      "|  YR7220|      New York|       Groceries|  11950073| 13| $7.93|   $0.39|$12.61|2019-11-26|\n",
      "|  YR7220|      New York|         Fashion|  86404418| 69| $48.3|   $4.83|$64.17|2019-11-26|\n",
      "|  YR7220|      New York|         Fashion|  91763000| 18| $11.7|   $0.36|$17.64|2019-11-26|\n",
      "|  YR7220|      New York|       Groceries|  53648681| 52|$36.92|   $1.04|$50.96|2019-11-26|\n",
      "|  YR7220|      New York|       Groceries|  15652465| 29|$18.85|   $2.03|$26.97|2019-11-26|\n",
      "+--------+--------------+----------------+----------+---+------+--------+------+----------+\n",
      "only showing top 20 rows\n",
      "\n"
     ]
    }
   ],
   "source": [
    "df2.show()"
   ]
  },
  {
   "cell_type": "code",
   "execution_count": 23,
   "id": "6016c8a0-3597-4a35-a611-0f710222f617",
   "metadata": {},
   "outputs": [
    {
     "data": {
      "text/plain": [
       "[('STORE_ID', 'string'),\n",
       " ('STORE_LOCATION', 'string'),\n",
       " ('PRODUCT_CATEGORY', 'string'),\n",
       " ('PRODUCT_ID', 'int'),\n",
       " ('MRP', 'int'),\n",
       " ('CP', 'int'),\n",
       " ('DISCOUNT', 'string'),\n",
       " ('SP', 'string'),\n",
       " ('Date', 'date')]"
      ]
     },
     "execution_count": 23,
     "metadata": {},
     "output_type": "execute_result"
    }
   ],
   "source": [
    "#CP temizleme ve donusturme\n",
    "df2=df2.withColumn(\"CP\",regexp_replace(\"CP\",r'[^0-9]',''))\n",
    "df2=df2.withColumn(\"CP\",F.trim(\"CP\"))\n",
    "df2=df2.withColumn(\"CP\",F.col(\"CP\").cast(\"int\"))\n",
    "\n",
    "df2.dtypes\n"
   ]
  },
  {
   "cell_type": "code",
   "execution_count": 24,
   "id": "5ae6e923-eaa7-4751-8f8f-54d30733b8d2",
   "metadata": {},
   "outputs": [
    {
     "name": "stdout",
     "output_type": "stream",
     "text": [
      "+--------+--------------+----------------+----------+---+----+--------+------+----------+\n",
      "|STORE_ID|STORE_LOCATION|PRODUCT_CATEGORY|PRODUCT_ID|MRP|  CP|DISCOUNT|    SP|      Date|\n",
      "+--------+--------------+----------------+----------+---+----+--------+------+----------+\n",
      "|  YR7220|      New York|     Electronics|  12254943| 31|2077|   $1.86|$29.14|2019-11-26|\n",
      "|  YR7220|      New York|       Furniture|  72619323| 15| 975|    $1.5| $13.5|2019-11-26|\n",
      "|  YR7220|      New York|     Electronics|  34161682| 88|6248|    $4.4| $83.6|2019-11-26|\n",
      "|  YR7220|      New York|         Kitchen|  79411621| 91|5824|   $3.64|$87.36|2019-11-26|\n",
      "|  YR7220|      New York|         Fashion|  39520263| 85|  51|   $2.55|$82.45|2019-11-26|\n",
      "|  YR7220|      New York|         Kitchen|  93809204| 37|2405|   $0.74|$36.26|2019-11-26|\n",
      "|  YR7220|      New York|       Cosmetics|  86610412| 80| 488|    $6.4| $73.6|2019-11-26|\n",
      "|  YR7220|      New York|         Kitchen|  52503356| 71| 426|   $5.68|$65.32|2019-11-26|\n",
      "|  YR7220|      New York|         Kitchen|  77516479| 92|5612|   $3.68|$88.32|2019-11-26|\n",
      "|  YR7220|      New York|       Cosmetics|  47334289| 16|1072|   $0.96|$15.04|2019-11-26|\n",
      "|  YR7220|      New York|       Cosmetics|  87566223| 38|2318|   $2.66|$35.34|2019-11-26|\n",
      "|  YR7220|      New York|     Electronics|  54074401| 26|1768|   $0.52|$25.48|2019-11-26|\n",
      "|  YR7220|      New York|         Fashion|  24246520| 45|3015|   $1.35|$43.65|2019-11-26|\n",
      "|  YR7220|      New York|       Cosmetics|  61138610| 83|5727|   $1.66|$81.34|2019-11-26|\n",
      "|  YR7220|      New York|         Kitchen|  69018554| 55| 374|   $1.65|$53.35|2019-11-26|\n",
      "|  YR7220|      New York|       Groceries|  11950073| 13| 793|   $0.39|$12.61|2019-11-26|\n",
      "|  YR7220|      New York|         Fashion|  86404418| 69| 483|   $4.83|$64.17|2019-11-26|\n",
      "|  YR7220|      New York|         Fashion|  91763000| 18| 117|   $0.36|$17.64|2019-11-26|\n",
      "|  YR7220|      New York|       Groceries|  53648681| 52|3692|   $1.04|$50.96|2019-11-26|\n",
      "|  YR7220|      New York|       Groceries|  15652465| 29|1885|   $2.03|$26.97|2019-11-26|\n",
      "+--------+--------------+----------------+----------+---+----+--------+------+----------+\n",
      "only showing top 20 rows\n",
      "\n"
     ]
    }
   ],
   "source": [
    "df2.show()"
   ]
  },
  {
   "cell_type": "code",
   "execution_count": 25,
   "id": "1dc1bff5-1ef5-4443-9763-bdfea80428da",
   "metadata": {},
   "outputs": [
    {
     "data": {
      "text/plain": [
       "[('STORE_ID', 'string'),\n",
       " ('STORE_LOCATION', 'string'),\n",
       " ('PRODUCT_CATEGORY', 'string'),\n",
       " ('PRODUCT_ID', 'int'),\n",
       " ('MRP', 'int'),\n",
       " ('CP', 'int'),\n",
       " ('DISCOUNT', 'int'),\n",
       " ('SP', 'string'),\n",
       " ('Date', 'date')]"
      ]
     },
     "execution_count": 25,
     "metadata": {},
     "output_type": "execute_result"
    }
   ],
   "source": [
    "#DISCOUNT temizleme ve donusturme\n",
    "df2=df2.withColumn(\"DISCOUNT\",regexp_replace(\"DISCOUNT\",r'[^0-9]',''))\n",
    "df2=df2.withColumn(\"DISCOUNT\",F.trim(\"DISCOUNT\"))\n",
    "df2=df2.withColumn(\"DISCOUNT\",F.col(\"DISCOUNT\").cast(\"int\"))\n",
    "\n",
    "df2.dtypes"
   ]
  },
  {
   "cell_type": "code",
   "execution_count": 26,
   "id": "5679009e-c952-4c94-bd38-312405e6a45f",
   "metadata": {},
   "outputs": [
    {
     "name": "stdout",
     "output_type": "stream",
     "text": [
      "+--------+--------------+----------------+----------+---+----+--------+------+----------+\n",
      "|STORE_ID|STORE_LOCATION|PRODUCT_CATEGORY|PRODUCT_ID|MRP|  CP|DISCOUNT|    SP|      Date|\n",
      "+--------+--------------+----------------+----------+---+----+--------+------+----------+\n",
      "|  YR7220|      New York|     Electronics|  12254943| 31|2077|     186|$29.14|2019-11-26|\n",
      "|  YR7220|      New York|       Furniture|  72619323| 15| 975|      15| $13.5|2019-11-26|\n",
      "|  YR7220|      New York|     Electronics|  34161682| 88|6248|      44| $83.6|2019-11-26|\n",
      "|  YR7220|      New York|         Kitchen|  79411621| 91|5824|     364|$87.36|2019-11-26|\n",
      "|  YR7220|      New York|         Fashion|  39520263| 85|  51|     255|$82.45|2019-11-26|\n",
      "|  YR7220|      New York|         Kitchen|  93809204| 37|2405|      74|$36.26|2019-11-26|\n",
      "|  YR7220|      New York|       Cosmetics|  86610412| 80| 488|      64| $73.6|2019-11-26|\n",
      "|  YR7220|      New York|         Kitchen|  52503356| 71| 426|     568|$65.32|2019-11-26|\n",
      "|  YR7220|      New York|         Kitchen|  77516479| 92|5612|     368|$88.32|2019-11-26|\n",
      "|  YR7220|      New York|       Cosmetics|  47334289| 16|1072|      96|$15.04|2019-11-26|\n",
      "|  YR7220|      New York|       Cosmetics|  87566223| 38|2318|     266|$35.34|2019-11-26|\n",
      "|  YR7220|      New York|     Electronics|  54074401| 26|1768|      52|$25.48|2019-11-26|\n",
      "|  YR7220|      New York|         Fashion|  24246520| 45|3015|     135|$43.65|2019-11-26|\n",
      "|  YR7220|      New York|       Cosmetics|  61138610| 83|5727|     166|$81.34|2019-11-26|\n",
      "|  YR7220|      New York|         Kitchen|  69018554| 55| 374|     165|$53.35|2019-11-26|\n",
      "|  YR7220|      New York|       Groceries|  11950073| 13| 793|      39|$12.61|2019-11-26|\n",
      "|  YR7220|      New York|         Fashion|  86404418| 69| 483|     483|$64.17|2019-11-26|\n",
      "|  YR7220|      New York|         Fashion|  91763000| 18| 117|      36|$17.64|2019-11-26|\n",
      "|  YR7220|      New York|       Groceries|  53648681| 52|3692|     104|$50.96|2019-11-26|\n",
      "|  YR7220|      New York|       Groceries|  15652465| 29|1885|     203|$26.97|2019-11-26|\n",
      "+--------+--------------+----------------+----------+---+----+--------+------+----------+\n",
      "only showing top 20 rows\n",
      "\n"
     ]
    }
   ],
   "source": [
    "df2.show()"
   ]
  },
  {
   "cell_type": "code",
   "execution_count": 27,
   "id": "75a45a72-1904-48cf-920b-43b1c9a64870",
   "metadata": {},
   "outputs": [
    {
     "data": {
      "text/plain": [
       "[('STORE_ID', 'string'),\n",
       " ('STORE_LOCATION', 'string'),\n",
       " ('PRODUCT_CATEGORY', 'string'),\n",
       " ('PRODUCT_ID', 'int'),\n",
       " ('MRP', 'int'),\n",
       " ('CP', 'int'),\n",
       " ('DISCOUNT', 'int'),\n",
       " ('SP', 'int'),\n",
       " ('Date', 'date')]"
      ]
     },
     "execution_count": 27,
     "metadata": {},
     "output_type": "execute_result"
    }
   ],
   "source": [
    "# SP temizleme ve donusturme\n",
    "df2=df2.withColumn(\"SP\",regexp_replace(\"SP\",r'[^0-9]',''))\n",
    "df2=df2.withColumn(\"SP\",F.trim(\"SP\"))\n",
    "df2=df2.withColumn(\"SP\",F.col(\"SP\").cast(\"int\"))\n",
    "\n",
    "df2.dtypes"
   ]
  },
  {
   "cell_type": "code",
   "execution_count": 28,
   "id": "f373c39e-ba70-4f07-b61f-61f2cc6e2c48",
   "metadata": {},
   "outputs": [
    {
     "name": "stdout",
     "output_type": "stream",
     "text": [
      "+--------+--------------+----------------+----------+---+----+--------+----+----------+\n",
      "|STORE_ID|STORE_LOCATION|PRODUCT_CATEGORY|PRODUCT_ID|MRP|  CP|DISCOUNT|  SP|      Date|\n",
      "+--------+--------------+----------------+----------+---+----+--------+----+----------+\n",
      "|  YR7220|      New York|     Electronics|  12254943| 31|2077|     186|2914|2019-11-26|\n",
      "|  YR7220|      New York|       Furniture|  72619323| 15| 975|      15| 135|2019-11-26|\n",
      "|  YR7220|      New York|     Electronics|  34161682| 88|6248|      44| 836|2019-11-26|\n",
      "|  YR7220|      New York|         Kitchen|  79411621| 91|5824|     364|8736|2019-11-26|\n",
      "|  YR7220|      New York|         Fashion|  39520263| 85|  51|     255|8245|2019-11-26|\n",
      "|  YR7220|      New York|         Kitchen|  93809204| 37|2405|      74|3626|2019-11-26|\n",
      "|  YR7220|      New York|       Cosmetics|  86610412| 80| 488|      64| 736|2019-11-26|\n",
      "|  YR7220|      New York|         Kitchen|  52503356| 71| 426|     568|6532|2019-11-26|\n",
      "|  YR7220|      New York|         Kitchen|  77516479| 92|5612|     368|8832|2019-11-26|\n",
      "|  YR7220|      New York|       Cosmetics|  47334289| 16|1072|      96|1504|2019-11-26|\n",
      "|  YR7220|      New York|       Cosmetics|  87566223| 38|2318|     266|3534|2019-11-26|\n",
      "|  YR7220|      New York|     Electronics|  54074401| 26|1768|      52|2548|2019-11-26|\n",
      "|  YR7220|      New York|         Fashion|  24246520| 45|3015|     135|4365|2019-11-26|\n",
      "|  YR7220|      New York|       Cosmetics|  61138610| 83|5727|     166|8134|2019-11-26|\n",
      "|  YR7220|      New York|         Kitchen|  69018554| 55| 374|     165|5335|2019-11-26|\n",
      "|  YR7220|      New York|       Groceries|  11950073| 13| 793|      39|1261|2019-11-26|\n",
      "|  YR7220|      New York|         Fashion|  86404418| 69| 483|     483|6417|2019-11-26|\n",
      "|  YR7220|      New York|         Fashion|  91763000| 18| 117|      36|1764|2019-11-26|\n",
      "|  YR7220|      New York|       Groceries|  53648681| 52|3692|     104|5096|2019-11-26|\n",
      "|  YR7220|      New York|       Groceries|  15652465| 29|1885|     203|2697|2019-11-26|\n",
      "+--------+--------------+----------------+----------+---+----+--------+----+----------+\n",
      "only showing top 20 rows\n",
      "\n"
     ]
    }
   ],
   "source": [
    "df2.show()"
   ]
  },
  {
   "cell_type": "code",
   "execution_count": 30,
   "id": "bb552bc7-8b51-4ae0-873b-d7879b9a83f8",
   "metadata": {},
   "outputs": [],
   "source": [
    "#postgresql\n",
    "config = configparser.RawConfigParser()\n",
    "\n",
    "config.read('./db_conn')\n",
    "user_name = config.get('DB', 'user_name')\n",
    "password = config.get('DB', 'password')\n",
    "db_ip = config.get('DB', 'db_ip')"
   ]
  },
  {
   "cell_type": "code",
   "execution_count": 31,
   "id": "1f29cd65-c0cc-4fb9-b315-466adef1001b",
   "metadata": {},
   "outputs": [
    {
     "data": {
      "text/plain": [
       "'localhost'"
      ]
     },
     "execution_count": 31,
     "metadata": {},
     "output_type": "execute_result"
    }
   ],
   "source": [
    "db_ip"
   ]
  },
  {
   "cell_type": "code",
   "execution_count": 32,
   "id": "1e49c5a7-e979-43c6-bd9c-dcc89b8bb7eb",
   "metadata": {},
   "outputs": [],
   "source": [
    "jdbcUrl = f\"jdbc:postgresql://{db_ip}:5433/odev_spark?user={user_name}&password={password}\""
   ]
  },
  {
   "cell_type": "code",
   "execution_count": 33,
   "id": "690bf474-4bb1-4a51-acdc-595656dd73d8",
   "metadata": {},
   "outputs": [
    {
     "name": "stderr",
     "output_type": "stream",
     "text": [
      "                                                                                \r"
     ]
    }
   ],
   "source": [
    "df2.write.jdbc(url=jdbcUrl,\n",
    "              table=\"odev_clean_table\", \n",
    "              mode=\"overwrite\", \n",
    "              properties={\"driver\": 'org.postgresql.Driver'})"
   ]
  },
  {
   "cell_type": "code",
   "execution_count": null,
   "id": "0fc88081-e689-44d3-b282-f555780f1754",
   "metadata": {},
   "outputs": [],
   "source": []
  },
  {
   "cell_type": "code",
   "execution_count": null,
   "id": "1605fca5-75f5-498f-ae7f-34eb5678d2df",
   "metadata": {},
   "outputs": [],
   "source": []
  },
  {
   "cell_type": "code",
   "execution_count": null,
   "id": "a5064f27-0786-48af-9407-6698d3fe2e63",
   "metadata": {},
   "outputs": [],
   "source": []
  },
  {
   "cell_type": "code",
   "execution_count": null,
   "id": "a0b68b97-2e56-4bfb-84a7-4835f417a63e",
   "metadata": {},
   "outputs": [],
   "source": []
  },
  {
   "cell_type": "code",
   "execution_count": null,
   "id": "6dba3235-f277-4a09-b919-07c1695af900",
   "metadata": {},
   "outputs": [],
   "source": []
  },
  {
   "cell_type": "code",
   "execution_count": null,
   "id": "d1b2212b-1dd3-411c-acad-b904da46a617",
   "metadata": {},
   "outputs": [],
   "source": []
  },
  {
   "cell_type": "code",
   "execution_count": null,
   "id": "b88d6b5b-b0d5-436e-92d3-c2dc6b2d480a",
   "metadata": {},
   "outputs": [],
   "source": []
  },
  {
   "cell_type": "code",
   "execution_count": null,
   "id": "3cf3763d-f34b-4ca7-9bf1-71fd4717e5de",
   "metadata": {},
   "outputs": [],
   "source": []
  }
 ],
 "metadata": {
  "kernelspec": {
   "display_name": "Python 3 (ipykernel)",
   "language": "python",
   "name": "python3"
  },
  "language_info": {
   "codemirror_mode": {
    "name": "ipython",
    "version": 3
   },
   "file_extension": ".py",
   "mimetype": "text/x-python",
   "name": "python",
   "nbconvert_exporter": "python",
   "pygments_lexer": "ipython3",
   "version": "3.8.19"
  }
 },
 "nbformat": 4,
 "nbformat_minor": 5
}
